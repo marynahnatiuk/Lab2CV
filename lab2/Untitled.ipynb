{
 "cells": [
  {
   "cell_type": "code",
   "execution_count": 15,
   "metadata": {},
   "outputs": [
    {
     "name": "stdout",
     "output_type": "stream",
     "text": [
      "encoded done for 4.919492483139038 seconds\n",
      "\n"
     ]
    }
   ],
   "source": [
    "import cv2, time\n",
    "import numpy as np\n",
    "\n",
    "capture = cv2.VideoCapture(\"my.mp4\")\n",
    "separator = \"nextcap\"\n",
    "\n",
    "f = open(\"myEncVideo\", \"wb\")\n",
    "start_time = time.time()\n",
    "ret, frame1 = capture.read()\n",
    "\n",
    "f.write(frame1.tobytes())\n",
    "f.write(separator.encode())\n",
    "prvs = cv2.cvtColor(frame1, cv2.COLOR_BGR2GRAY)\n",
    "\n",
    "hsv = np.zeros_like(frame1)\n",
    "hsv[..., 1] = 255\n",
    "\n",
    "k = 0;\n",
    "while (1):\n",
    "    k += 1\n",
    "    ret, frame2 = capture.read()\n",
    "    next = cv2.cvtColor(frame2, cv2.COLOR_BGR2GRAY)\n",
    "\n",
    "    flow = cv2.calcOpticalFlowFarneback(prvs, next, None, 0.5, 3, 15, 3, 5, 1.2, 0)\n",
    "    f.write(flow.tobytes())\n",
    "    f.write(separator.encode())\n",
    "    if k == 100 or not ret:\n",
    "        break\n",
    "    prvs = next\n",
    "\n",
    "capture.release()\n",
    "f.close()\n",
    "print(\"encoded done for {} seconds\\n\".format(time.time()-start_time))\n",
    "\n",
    "f = open(\"myEncVideo\",\"rb\")\n",
    "encodedInfo = f.read()\n",
    "f.close()\n",
    "list = encodedInfo.split(separator.encode())\n",
    "\n",
    "frame1 = np.frombuffer(list[0],dtype=np.dtype('uint8')).reshape((360, 360, 3))\n",
    "\n",
    "hsv = np.zeros_like(frame1)\n",
    "hsv[..., 1] = 255\n",
    "\n",
    "for item in list[1:-1]:\n",
    "    flow = np.frombuffer(item,dtype=np.float32).reshape((360, 360, 2))\n",
    "    mag, ang = cv2.cartToPolar(flow[..., 0], flow[..., 1])\n",
    "    hsv[..., 0] = ang * 180 / np.pi / 2\n",
    "    hsv[..., 2] = cv2.normalize(mag, None, 0, 255, cv2.NORM_MINMAX)\n",
    "    rgb = cv2.cvtColor(hsv, cv2.COLOR_HSV2BGR)\n",
    "\n",
    "    cv2.imshow('Decoded Video', rgb)\n",
    "    while(1):\n",
    "        k = cv2.waitKey(30) & 0xff\n",
    "        if k == 13:\n",
    "            break \n",
    "\n",
    "cv2.destroyAllWindows()\n"
   ]
  }
 ],
 "metadata": {
  "kernelspec": {
   "display_name": "Python 3",
   "language": "python",
   "name": "python3"
  },
  "language_info": {
   "codemirror_mode": {
    "name": "ipython",
    "version": 3
   },
   "file_extension": ".py",
   "mimetype": "text/x-python",
   "name": "python",
   "nbconvert_exporter": "python",
   "pygments_lexer": "ipython3",
   "version": "3.6.4"
  }
 },
 "nbformat": 4,
 "nbformat_minor": 2
}
